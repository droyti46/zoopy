{
 "cells": [
  {
   "cell_type": "markdown",
   "metadata": {},
   "source": [
    "![logo](../img/logo.png)\n",
    "\n",
    "# Basics\n",
    "Get to know the library\n",
    "## Introduction"
   ]
  },
  {
   "cell_type": "code",
   "execution_count": 6,
   "metadata": {},
   "outputs": [],
   "source": [
    "from zoopy import animal"
   ]
  },
  {
   "cell_type": "markdown",
   "metadata": {},
   "source": [
    "## The Animal class\n",
    "Represents an animal\n",
    "***\n",
    "### Methods\n",
    "#### display()\n",
    "Displays information about the animal in the Jupyter cell"
   ]
  },
  {
   "cell_type": "code",
   "execution_count": 17,
   "metadata": {},
   "outputs": [
    {
     "data": {
      "text/html": [
       "<!DOCTYPE html>\n",
       "<html lang=\"en\">\n",
       "<head>\n",
       "    <meta charset=\"UTF-8\">\n",
       "    <meta name=\"viewport\" content=\"width=device-width, initial-scale=1.0\">\n",
       "    <title>Animal Information</title>\n",
       "    <style>\n",
       "        .container {\n",
       "            display: flex;\n",
       "            justify-content: space-between;\n",
       "        }\n",
       "        .left, .right {\n",
       "            width: 48%; /* РњРѕР¶РЅРѕ РЅР°СЃС‚СЂРѕРёС‚СЊ С€РёСЂРёРЅСѓ РїРѕ СЃРІРѕРµРјСѓ СѓСЃРјРѕС‚СЂРµРЅРёСЋ */\n",
       "        }\n",
       "    </style>\n",
       "</head>\n",
       "<body>\n",
       "    <h1>Птицы</h1>\n",
       "    <hr>\n",
       "    <h2>Scientific classification</h2>\n",
       "    <div class=\"container\">\n",
       "        <div class=\"left\">\n",
       "            <span style=\"color: yellow\">domain</span>: Эукариоты<br><span style=\"color: yellow\">kingdom</span>: Животные<br><span style=\"color: yellow\">subkingdom</span>: Эуметазои<br><span style=\"color: yellow\">phylum</span>: Хордовые<br><span style=\"color: yellow\">subphylum</span>: Позвоночные<br><span style=\"color: yellow\">infraphylum</span>: Челюстноротые<br><span style=\"color: yellow\">superclass</span>: Четвероногие<br><span style=\"color: yellow\">class</span>: Птицы\n",
       "        </div>\n",
       "        <div class=\"right\">\n",
       "            <h2>ID</h2>\n",
       "            <span style=\"color: yellow\">ITIS</span>: 174371<br><span style=\"color: yellow\">NCBI</span>: 8782<br><span style=\"color: yellow\">EOL</span>: 695.0<br><span style=\"color: yellow\">FW</span>: 36616\n",
       "        </div>\n",
       "    </div>\n",
       "</body>\n",
       "</html>"
      ],
      "text/plain": [
       "<IPython.core.display.HTML object>"
      ]
     },
     "metadata": {},
     "output_type": "display_data"
    }
   ],
   "source": [
    "bird = animal.Animal('птицы', 'ru')\n",
    "bird.display()"
   ]
  },
  {
   "cell_type": "markdown",
   "metadata": {},
   "source": [
    "#### to_dict()\n",
    "Converting features to the dict type"
   ]
  },
  {
   "cell_type": "code",
   "execution_count": 12,
   "metadata": {},
   "outputs": [
    {
     "data": {
      "text/plain": [
       "{'language': 'ru',\n",
       " 'name': 'Птицы',\n",
       " 'domain': 'Эукариоты',\n",
       " 'kingdom': 'Животные',\n",
       " 'subkingdom': 'Эуметазои',\n",
       " 'phylum': 'Хордовые',\n",
       " 'subphylum': 'Позвоночные',\n",
       " 'infraphylum': 'Челюстноротые',\n",
       " 'superclass': 'Четвероногие',\n",
       " 'class': 'Птицы',\n",
       " 'order': nan,\n",
       " 'suborder': nan,\n",
       " 'superfamily': nan,\n",
       " 'family': nan,\n",
       " 'subfamily': nan,\n",
       " 'genus': nan,\n",
       " 'species': nan,\n",
       " 'ITIS': '174371',\n",
       " 'NCBI': '8782',\n",
       " 'EOL': 695.0,\n",
       " 'FW': '36616',\n",
       " 'similarity': 0.8}"
      ]
     },
     "execution_count": 12,
     "metadata": {},
     "output_type": "execute_result"
    }
   ],
   "source": [
    "bird.to_dict()"
   ]
  },
  {
   "cell_type": "markdown",
   "metadata": {},
   "source": [
    "#### to_series()\n",
    "Converting features to the pandas.Series type"
   ]
  },
  {
   "cell_type": "code",
   "execution_count": 19,
   "metadata": {},
   "outputs": [
    {
     "data": {
      "text/plain": [
       "language             ru\n",
       "name              Птицы\n",
       "domain        Эукариоты\n",
       "kingdom        Животные\n",
       "subkingdom    Эуметазои\n",
       "Name: 14477, dtype: object"
      ]
     },
     "execution_count": 19,
     "metadata": {},
     "output_type": "execute_result"
    }
   ],
   "source": [
    "bird.to_series().head()"
   ]
  },
  {
   "cell_type": "code",
   "execution_count": null,
   "metadata": {},
   "outputs": [],
   "source": []
  }
 ],
 "metadata": {
  "kernelspec": {
   "display_name": "Python 3",
   "language": "python",
   "name": "python3"
  },
  "language_info": {
   "codemirror_mode": {
    "name": "ipython",
    "version": 3
   },
   "file_extension": ".py",
   "mimetype": "text/x-python",
   "name": "python",
   "nbconvert_exporter": "python",
   "pygments_lexer": "ipython3",
   "version": "3.12.6"
  }
 },
 "nbformat": 4,
 "nbformat_minor": 2
}
